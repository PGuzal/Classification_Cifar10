{
 "cells": [
  {
   "cell_type": "markdown",
   "metadata": {
    "id": "uUlIkRLJ3rVR"
   },
   "source": [
    "# Pobranie danych oraz wybór dla wskazanych klas do dalszej analizy\n",
    "\n",
    "\n",
    "---\n",
    "\n"
   ]
  },
  {
   "cell_type": "code",
   "execution_count": null,
   "metadata": {
    "id": "hkU-ME6AOaMr"
   },
   "outputs": [],
   "source": [
    "import pickle\n",
    "import glob\n",
    "import numpy as np\n",
    "import pandas as pd"
   ]
  },
  {
   "cell_type": "code",
   "execution_count": null,
   "metadata": {
    "id": "ScmTjKmmPg0H"
   },
   "outputs": [],
   "source": [
    "def unpickle(file):\n",
    "    all_dict = []\n",
    "    meta_dict = {}\n",
    "    for f in glob.glob(file):\n",
    "      if f.endswith('.meta')!=True:\n",
    "        print(f)\n",
    "        with open(f, 'rb') as fo:\n",
    "          dict = pickle.load(fo, encoding='bytes')\n",
    "        all_dict.append(dict)\n",
    "      else:\n",
    "          with open(f, 'rb') as fo:\n",
    "           meta_dict = pickle.load(fo, encoding='bytes')\n",
    "    return all_dict, meta_dict\n",
    "\n",
    "def extraction_data(data,index_my_categories):\n",
    "  pic_data = data[b\"data\"]\n",
    "  labels = data[b\"labels\"]\n",
    "  pictures =  np.concatenate([pic_data.loc[i] for i in range(0,pic_data.shape[0])],axis=0)\n",
    "  index =  np.concatenate([labels.loc[i] for i in range(0,labels.shape[0]) ],axis=0)\n",
    "  return extraction_categories(index_my_categories, index, pictures)\n",
    "\n",
    "def extraction_categories(index, index_all, pic_data):\n",
    "   data = np.array([ pic_data[i] for i in range(len(index_all)) if index_all[i] in index ])\n",
    "   label = np.array([ i for i in index_all if i in index ])\n",
    "   return data, label\n",
    "\n",
    "def extraction_meta(meta_d,key,type_img):\n",
    "  data = meta[key]\n",
    "  data = [i.decode(\"utf-8\") for i in data]\n",
    "  index_list = [data.index(i) for i in type_img]\n",
    "  return index_list\n"
   ]
  },
  {
   "cell_type": "code",
   "execution_count": null,
   "metadata": {
    "colab": {
     "base_uri": "https://localhost:8080/"
    },
    "id": "QLXRCsxveH7z",
    "outputId": "23b7b1d8-3d6f-4806-ad14-9946d056befb"
   },
   "outputs": [
    {
     "name": "stdout",
     "output_type": "stream",
     "text": [
      "/content/drive/MyDrive/uczelnia/UM/Wykład/cifar-10-batches-py/train/data_batch_3\n",
      "/content/drive/MyDrive/uczelnia/UM/Wykład/cifar-10-batches-py/train/data_batch_2\n",
      "/content/drive/MyDrive/uczelnia/UM/Wykład/cifar-10-batches-py/train/data_batch_5\n",
      "/content/drive/MyDrive/uczelnia/UM/Wykład/cifar-10-batches-py/train/data_batch_1\n",
      "/content/drive/MyDrive/uczelnia/UM/Wykład/cifar-10-batches-py/train/data_batch_4\n"
     ]
    }
   ],
   "source": [
    "file = \"/content/drive/MyDrive/uczelnia/UM/Wykład/cifar-10-batches-py/train/*\"\n",
    "data, meta = unpickle(file)"
   ]
  },
  {
   "cell_type": "code",
   "execution_count": null,
   "metadata": {
    "id": "I0yqXLNvTbX7"
   },
   "outputs": [],
   "source": [
    "index = extraction_meta(meta,b'label_names',[\"airplane\", \"cat\", \"truck\"])\n",
    "X_train_data,y_train_data = extraction_data(pd.DataFrame(data),index)"
   ]
  },
  {
   "cell_type": "markdown",
   "metadata": {
    "id": "Yub9OI19LPUe"
   },
   "source": [
    "#Przetwarzanie wstępne\n",
    "\n",
    "\n",
    "---\n",
    "\n"
   ]
  },
  {
   "cell_type": "code",
   "execution_count": null,
   "metadata": {
    "id": "PQHi8Z48788Z"
   },
   "outputs": [],
   "source": [
    "import random\n",
    "from sklearn.decomposition import PCA\n",
    "from sklearn.preprocessing import MinMaxScaler"
   ]
  },
  {
   "cell_type": "code",
   "execution_count": null,
   "metadata": {
    "id": "zHSDzmP16xvR"
   },
   "outputs": [],
   "source": [
    "def preproces(pictures):\n",
    "    pictures_copy = pictures.copy()\n",
    "    scaler =  MinMaxScaler(feature_range=(0, 1))\n",
    "    stand_pic = scaler.fit_transform(pictures_copy)\n",
    "    return stand_pic"
   ]
  },
  {
   "cell_type": "code",
   "execution_count": null,
   "metadata": {
    "id": "d_9jrmnJLLrf"
   },
   "outputs": [],
   "source": [
    "pca = PCA(n_components=40)\n",
    "x_train_pre = preproces(X_train_data)\n",
    "pca = pca.fit(x_train_pre)"
   ]
  },
  {
   "cell_type": "code",
   "execution_count": null,
   "metadata": {
    "id": "_I1veELtefOc"
   },
   "outputs": [],
   "source": [
    "x_train = pca.transform(x_train_pre)"
   ]
  },
  {
   "cell_type": "markdown",
   "metadata": {
    "id": "LZqiTossLVgO"
   },
   "source": [
    "#Klasyfikacja danych\n",
    "\n",
    "\n",
    "---\n",
    "\n",
    "\n"
   ]
  },
  {
   "cell_type": "code",
   "execution_count": null,
   "metadata": {
    "id": "SoVVLkN-BK47"
   },
   "outputs": [],
   "source": [
    "from sklearn.neural_network import MLPClassifier\n",
    "model = MLPClassifier(hidden_layer_sizes=3072, solver='adam',activation='relu',max_iter=500,random_state=1,early_stopping=True)"
   ]
  },
  {
   "cell_type": "code",
   "execution_count": null,
   "metadata": {
    "colab": {
     "base_uri": "https://localhost:8080/"
    },
    "id": "5gGJpDFum8R4",
    "outputId": "1f179f66-b494-4122-9153-2fca740c9b07"
   },
   "outputs": [
    {
     "data": {
      "text/plain": [
       "MLPClassifier(activation='relu', alpha=0.0001, batch_size='auto', beta_1=0.9,\n",
       "              beta_2=0.999, early_stopping=True, epsilon=1e-08,\n",
       "              hidden_layer_sizes=3072, learning_rate='constant',\n",
       "              learning_rate_init=0.001, max_fun=15000, max_iter=500,\n",
       "              momentum=0.9, n_iter_no_change=10, nesterovs_momentum=True,\n",
       "              power_t=0.5, random_state=1, shuffle=True, solver='adam',\n",
       "              tol=0.0001, validation_fraction=0.1, verbose=False,\n",
       "              warm_start=False)"
      ]
     },
     "execution_count": 189,
     "metadata": {
      "tags": []
     },
     "output_type": "execute_result"
    }
   ],
   "source": [
    "model.fit(x_train, y_train_data)"
   ]
  },
  {
   "cell_type": "markdown",
   "metadata": {
    "id": "PuMwAIwX92Cy"
   },
   "source": [
    "#Walidacja modelu (dla danych testowych) wraz z wyznaczeniem i wydrukiem macierzy pomyłek oraz wartości F1\n",
    "\n",
    "\n",
    "---\n",
    "\n"
   ]
  },
  {
   "cell_type": "code",
   "execution_count": null,
   "metadata": {
    "id": "A0xHewq59WwC"
   },
   "outputs": [],
   "source": [
    "from sklearn.metrics import f1_score, classification_report,confusion_matrix\n",
    "from sklearn import metrics"
   ]
  },
  {
   "cell_type": "code",
   "execution_count": null,
   "metadata": {
    "colab": {
     "base_uri": "https://localhost:8080/"
    },
    "id": "HpFXsTorsNJC",
    "outputId": "f33f10ee-90fa-413f-d523-002d93e514d4"
   },
   "outputs": [
    {
     "name": "stdout",
     "output_type": "stream",
     "text": [
      "/content/drive/MyDrive/uczelnia/UM/Wykład/cifar-10-batches-py/test/test_batch\n"
     ]
    }
   ],
   "source": [
    "file = \"/content/drive/MyDrive/uczelnia/UM/Wykład/cifar-10-batches-py/test/*\"\n",
    "data, meta = unpickle(file)\n",
    "X_test_data,y_test = extraction_data(pd.DataFrame(data),index)\n",
    "\n",
    "X_test_pre= preproces(X_test_data)\n",
    "\n",
    "X_test = pca.transform(X_test_pre)"
   ]
  },
  {
   "cell_type": "code",
   "execution_count": null,
   "metadata": {
    "colab": {
     "base_uri": "https://localhost:8080/"
    },
    "id": "LAP3dDO2ltq9",
    "outputId": "2b22d95f-ce47-41a3-d28b-a57abacc0e25"
   },
   "outputs": [
    {
     "name": "stdout",
     "output_type": "stream",
     "text": [
      "Accuracy: 0.8223333333333334 \n",
      "\n",
      "Confusion matrix\n",
      " [[851  71  78]\n",
      " [ 89 806 105]\n",
      " [ 89 101 810]]\n",
      "\n",
      "F1-score 0.8222154778398617\n",
      "Raport klasyfikacji               precision    recall  f1-score   support\n",
      "\n",
      "           0       0.83      0.85      0.84      1000\n",
      "           3       0.82      0.81      0.81      1000\n",
      "           9       0.82      0.81      0.81      1000\n",
      "\n",
      "    accuracy                           0.82      3000\n",
      "   macro avg       0.82      0.82      0.82      3000\n",
      "weighted avg       0.82      0.82      0.82      3000\n",
      "\n"
     ]
    }
   ],
   "source": [
    "y_pred = model.predict(X_test)\n",
    "print(\"Accuracy:\",metrics.accuracy_score(y_test, y_pred),\"\\n\")\n",
    "print(\"Confusion matrix\\n\",confusion_matrix(y_test, y_pred, labels=[0,3,9]))\n",
    "print(\"\\nF1-score\",f1_score(y_test, y_pred, average='weighted'))\n",
    "print(\"Raport klasyfikacji\",classification_report(y_test, y_pred, target_names=[\"0\",\"3\",\"9\"]))"
   ]
  }
 ],
 "metadata": {
  "accelerator": "GPU",
  "colab": {
   "collapsed_sections": [],
   "name": "UM_PD _171687.ipynb",
   "provenance": []
  },
  "kernelspec": {
   "display_name": "Python 3",
   "language": "python",
   "name": "python3"
  },
  "language_info": {
   "codemirror_mode": {
    "name": "ipython",
    "version": 3
   },
   "file_extension": ".py",
   "mimetype": "text/x-python",
   "name": "python",
   "nbconvert_exporter": "python",
   "pygments_lexer": "ipython3",
   "version": "3.8.5"
  }
 },
 "nbformat": 4,
 "nbformat_minor": 1
}
