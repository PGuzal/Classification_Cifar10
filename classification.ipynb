{
 "cells": [
  {
   "cell_type": "markdown",
   "metadata": {
    "id": "uUlIkRLJ3rVR"
   },
   "source": [
    "# Pobranie danych oraz wybór dla wskazanych klas do dalszej analizy\n",
    "\n",
    "\n",
    "---\n",
    "\n"
   ]
  },
  {
   "cell_type": "code",
   "execution_count": 14,
   "metadata": {
    "id": "hkU-ME6AOaMr"
   },
   "outputs": [],
   "source": [
    "import pickle\n",
    "import glob\n",
    "import numpy as np\n",
    "import pandas as pd"
   ]
  },
  {
   "cell_type": "code",
   "execution_count": 15,
   "metadata": {
    "id": "ScmTjKmmPg0H"
   },
   "outputs": [],
   "source": [
    "def unpickle(file):\n",
    "    all_dict = []\n",
    "    meta_dict = {}\n",
    "    for f in glob.glob(file):\n",
    "      if f.endswith('.meta')!=True:\n",
    "        print(f)\n",
    "        with open(f, 'rb') as fo:\n",
    "          dict = pickle.load(fo, encoding='bytes')\n",
    "        all_dict.append(dict)\n",
    "      else:\n",
    "          with open(f, 'rb') as fo:\n",
    "           meta_dict = pickle.load(fo, encoding='bytes')\n",
    "    return all_dict, meta_dict\n",
    "\n",
    "def extraction_data(data,index_my_categories):\n",
    "  pic_data = data[b\"data\"]\n",
    "  labels = data[b\"labels\"]\n",
    "  pictures =  np.concatenate([pic_data.loc[i] for i in range(0,pic_data.shape[0])],axis=0)\n",
    "  index =  np.concatenate([labels.loc[i] for i in range(0,labels.shape[0]) ],axis=0)\n",
    "  return extraction_categories(index_my_categories, index, pictures)\n",
    "\n",
    "def extraction_categories(index, index_all, pic_data):\n",
    "   data = np.array([ pic_data[i] for i in range(len(index_all)) if index_all[i] in index ])\n",
    "   label = np.array([ i for i in index_all if i in index ])\n",
    "   return data, label\n",
    "\n",
    "def extraction_meta(meta_d,key,type_img):\n",
    "  data = meta[key]\n",
    "  data = [i.decode(\"utf-8\") for i in data]\n",
    "  index_list = [data.index(i) for i in type_img]\n",
    "  return index_list\n"
   ]
  },
  {
   "cell_type": "code",
   "execution_count": 16,
   "metadata": {
    "colab": {
     "base_uri": "https://localhost:8080/"
    },
    "id": "QLXRCsxveH7z",
    "outputId": "202ec991-4ab6-4ae5-badd-dc5828c0f6c2"
   },
   "outputs": [
    {
     "name": "stdout",
     "output_type": "stream",
     "text": [
      "/content/drive/MyDrive/uczelnia/UM/Wykład/cifar-10-batches-py/train/data_batch_3\n",
      "/content/drive/MyDrive/uczelnia/UM/Wykład/cifar-10-batches-py/train/data_batch_2\n",
      "/content/drive/MyDrive/uczelnia/UM/Wykład/cifar-10-batches-py/train/data_batch_5\n",
      "/content/drive/MyDrive/uczelnia/UM/Wykład/cifar-10-batches-py/train/data_batch_1\n",
      "/content/drive/MyDrive/uczelnia/UM/Wykład/cifar-10-batches-py/train/data_batch_4\n"
     ]
    }
   ],
   "source": [
    "file = \"/data/Train/*\"\n",
    "data, meta = unpickle(file)"
   ]
  },
  {
   "cell_type": "code",
   "execution_count": 17,
   "metadata": {
    "id": "I0yqXLNvTbX7"
   },
   "outputs": [],
   "source": [
    "index = extraction_meta(meta,b'label_names',[\"airplane\", \"cat\", \"truck\"])\n",
    "X_train_data,y_train_data = extraction_data(pd.DataFrame(data),index)"
   ]
  },
  {
   "cell_type": "markdown",
   "metadata": {
    "id": "Yub9OI19LPUe"
   },
   "source": [
    "#Przetwarzanie wstępne\n",
    "\n",
    "\n",
    "---\n",
    "\n"
   ]
  },
  {
   "cell_type": "code",
   "execution_count": 18,
   "metadata": {
    "id": "PQHi8Z48788Z"
   },
   "outputs": [],
   "source": [
    "import random\n",
    "from sklearn.decomposition import PCA\n",
    "from sklearn.preprocessing import MinMaxScaler"
   ]
  },
  {
   "cell_type": "code",
   "execution_count": 19,
   "metadata": {
    "id": "zHSDzmP16xvR"
   },
   "outputs": [],
   "source": [
    "def preproces(pictures):\n",
    "    pictures_copy = pictures.copy()\n",
    "    scaler =  MinMaxScaler(feature_range=(0, 1))\n",
    "    stand_pic = scaler.fit_transform(pictures_copy)\n",
    "    return stand_pic"
   ]
  },
  {
   "cell_type": "code",
   "execution_count": 20,
   "metadata": {
    "id": "_I1veELtefOc"
   },
   "outputs": [],
   "source": [
    "x_train_pre = preproces(X_train_data)\n",
    "pca = PCA(n_components=40) \n",
    "pca = pca.fit(x_train_pre)\n",
    "X_train = pca.transform(x_train_pre)"
   ]
  },
  {
   "cell_type": "markdown",
   "metadata": {
    "id": "LZqiTossLVgO"
   },
   "source": [
    "#Klasyfikacja danych\n",
    "\n",
    "\n",
    "---\n",
    "\n",
    "\n"
   ]
  },
  {
   "cell_type": "code",
   "execution_count": 21,
   "metadata": {
    "id": "Z_9_2MJeEGV4"
   },
   "outputs": [],
   "source": [
    "from sklearn.svm import SVC"
   ]
  },
  {
   "cell_type": "code",
   "execution_count": 22,
   "metadata": {
    "id": "tlY777ZCESaG"
   },
   "outputs": [],
   "source": [
    "model = SVC(C=4, gamma='scale', kernel='rbf',decision_function_shape = 'ovo',shrinking=False)\n",
    "clf = model.fit(X_train, y_train_data)"
   ]
  },
  {
   "cell_type": "markdown",
   "metadata": {
    "id": "PuMwAIwX92Cy"
   },
   "source": [
    "#Walidacja modelu (dla danych testowych) wraz z wyznaczeniem i wydrukiem macierzy pomyłek oraz wartości F1\n",
    "\n",
    "\n",
    "---\n",
    "\n"
   ]
  },
  {
   "cell_type": "code",
   "execution_count": 23,
   "metadata": {
    "id": "A0xHewq59WwC"
   },
   "outputs": [],
   "source": [
    "from sklearn.metrics import f1_score, classification_report,confusion_matrix\n",
    "from sklearn import metrics"
   ]
  },
  {
   "cell_type": "code",
   "execution_count": 24,
   "metadata": {
    "colab": {
     "base_uri": "https://localhost:8080/"
    },
    "id": "BhfY4MobDtW0",
    "outputId": "d2ee8c09-8653-4b8f-ac46-7ffe3af54fc5"
   },
   "outputs": [
    {
     "name": "stdout",
     "output_type": "stream",
     "text": [
      "/content/drive/MyDrive/uczelnia/UM/Wykład/cifar-10-batches-py/test/test_batch\n",
      "Accuracy: 0.82 \n",
      "\n",
      "Confusion matrix [[831  82  87]\n",
      " [ 72 838  90]\n",
      " [ 99 110 791]]\n",
      "\n",
      "F1-score 0.8198824607781715\n",
      "Raport klasyfikacji               precision    recall  f1-score   support\n",
      "\n",
      "           0       0.83      0.83      0.83      1000\n",
      "           3       0.81      0.84      0.83      1000\n",
      "           9       0.82      0.79      0.80      1000\n",
      "\n",
      "    accuracy                           0.82      3000\n",
      "   macro avg       0.82      0.82      0.82      3000\n",
      "weighted avg       0.82      0.82      0.82      3000\n",
      "\n"
     ]
    }
   ],
   "source": [
    "file = \"/data/Test/*\"\n",
    "data, meta = unpickle(file)\n",
    "X_test_data,y_test = extraction_data(pd.DataFrame(data),index)\n",
    "\n",
    "X_test_pre= preproces(X_test_data)\n",
    "\n",
    "X_test = pca.transform(X_test_pre)\n",
    "\n",
    "y_pred = clf.predict(X_test)\n",
    "print(\"Accuracy:\",metrics.accuracy_score(y_test, y_pred),\"\\n\")\n",
    "print(\"Confusion matrix\",confusion_matrix(y_test, y_pred, labels=[0,3,9]))\n",
    "print(\"\\nF1-score\",f1_score(y_test, y_pred, average='weighted'))\n",
    "print(\"Raport klasyfikacji\",classification_report(y_test, y_pred, target_names=[\"0\",\"3\",\"9\"]))"
   ]
  }
 ],
 "metadata": {
  "colab": {
   "collapsed_sections": [],
   "name": "uczenie_maszynowe_PD.ipynb",
   "provenance": []
  },
  "kernelspec": {
   "display_name": "Python 3",
   "language": "python",
   "name": "python3"
  },
  "language_info": {
   "codemirror_mode": {
    "name": "ipython",
    "version": 3
   },
   "file_extension": ".py",
   "mimetype": "text/x-python",
   "name": "python",
   "nbconvert_exporter": "python",
   "pygments_lexer": "ipython3",
   "version": "3.8.5"
  }
 },
 "nbformat": 4,
 "nbformat_minor": 1
}
